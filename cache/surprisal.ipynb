{
 "cells": [
  {
   "cell_type": "code",
   "execution_count": 35,
   "id": "86138f0f",
   "metadata": {},
   "outputs": [],
   "source": [
    "import pandas as pd\n",
    "\n",
    "dataset_path = \"/home/can/dynamic_representations/artifacts/text_inputs/hippocorpus-u20220112/hcV3-eventAnnotsAggOverWorkers.csv\"\n",
    "df = pd.read_csv(dataset_path)\n",
    "df_surprising = df[df[\"surprisingBin\"] > 0.8]\n",
    "\n",
    "idxs = df_surprising.index.to_numpy()"
   ]
  },
  {
   "cell_type": "code",
   "execution_count": 36,
   "id": "55a01744",
   "metadata": {},
   "outputs": [
    {
     "data": {
      "text/plain": [
       "[\"It was barely enough income to get by on and not enough for my budget to include savings. That's how I found myself homeless. Within a matter of a few months, I was consigned to wander through the streets that used to be mine.\",\n",
       " \"After High School, I went on to get my Bachelor's degree in engineering. During my senior year and just before entering the Master's program, my girlfriend was pregnant. I was happy because I was going to be a father but upset because I would not be able to get my Master's degree.\",\n",
       " 'She and I are very close so it was great to see her marrying someone she loves. The most memorable moment was when I spilled champagne on my dress before the wedding. I was panicked.',\n",
       " 'I enjoyed celebrating with her and had a great time. 3 week ago my dog passed away and I was not there to see her go. I was at college that week and it was the final week of classes before finals.',\n",
       " 'Thank you Shelly. Three weeks ago, my dog died. I was not there.',\n",
       " 'I was completely devastated. Since this event has happened, I have since reconciled with my boyfriend. I was incredibly angry and upset with him at first, I wanted absolutely nothing to do with him.',\n",
       " \"He's still working as a substitute teacher from time to time, and I told him I'm working at a restaurant. An unfortunate thing I found out while talking to him was that his younger sister passed away from cancer. It was very sad to hear this as I remember her well from my childhood.\",\n",
       " \"I'm optimistic it will lead to more of a relationship in the future. The memorable event that I shared was when my step-father got in touch with me after a long time of us not speaking to each other. My biological dad left when I was a baby so my step-dad was pretty much the sole father figure in my life during some of my formative years (around age four to nine).\",\n",
       " \"He told me he has a new wife who he said is great and he's very happy being with. The memorable and rather shocking part of the story was when that my step-dad told me his younger sister had died (only in her 50s) far too soon from cancer. I was really quite sad and taken aback by this.\",\n",
       " \"It's been good to have him back in my life even in just a small way. My dad passed away last month. I knew he was sick, but it was still such a shock.\",\n",
       " 'She was married to my father for 42 years and he was heartbroken over her death. Five months ago he died from that broken heart. I was the classic daddy’s girl.',\n",
       " 'My parents found a way to take care of me even in their death. After the untimely death of father I continued to close accounts and handle issues that arose in the estate. I was ecstatic and very surprised when I received the 12 checks in the mail from the lawyer.',\n",
       " 'After the untimely death of father I continued to close accounts and handle issues that arose in the estate. I was ecstatic and very surprised when I received the 12 checks in the mail from the lawyer. The money was enough to pay off bills and the remainder of the mortgage on my parents home.',\n",
       " \"It's been two months since I saw the doctor for my problem. Without warning, there were times I was hit with the sudden urge to pee and ended up holding it too long. I knew that I probably had an infection, and I did.\",\n",
       " 'All of the bad memories assaulted my mind in a matter of seconds. The way he had sexually assaulted me those many years ago. All of a sudden, it seemed like it had happened just seconds before.',\n",
       " \"This is a story it's about a family who is trying to stay together, at least partially. It starts with a husband who made it terrible mistake by having an affair. It's about a wife who found out and obviously was devastated.\",\n",
       " 'I started to think about my job and how I had to miss out on things with my kids because of work and I decided to just quit. Out of the blue, I just quit my job after 7 1/2 years and decided I was going to support myself and my children by committing to work full time online so I would be a single stay at home mom. After I actually done this I felt empowered but by the next day I felt terrified because I had devoted 7 1/2 years to a job I had planned to retire from.',\n",
       " 'He handled it like a champ - and since then - there have been no squabbles on that field! A couple of weeks ago, there was a rumor that my co-worker, John had passed away. He was so very liked by many people.',\n",
       " 'Our management decided to have one day a month where we could wear our sports jerseys. A co-worker friend recently was diagnosed with cancer. He had been undergoing chemo and was nearing time to go home.',\n",
       " 'He fought a very good fight with his cancer battle, never giving up hope. We recently attended the funeral of one of my co-workers. After some very unexpected health problems he passed away.',\n",
       " 'I panicked and she must have saw it because she tried to calm me. She said that had found someone else and was no longer in love with me. My heart sank.',\n",
       " 'we really had mad fun all this while till when suddenly. One of us started misbehaving and convulsing. He was rushed by the guys for help.',\n",
       " \"I am not one for bad news. Four months ago, I had to say goodbye to three friends in my life. I was my Uncle's favorite niece, my best friend was the only one I could confide in, and my dog was my partner.\",\n",
       " 'I do positive things in their memory. In late May I lost my dog. She was old for a mastiff, 13 years old.',\n",
       " \"Blissfully unaware, I enjoyed the prospect of having a new infant in the family to love and spoil as only a grandmother can. That happiness was short-lived, however, when CPS became involved in the baby's life because of events that had happened in her mother's history. I was shocked to find that she had things in her history that were so terrible that CPS felt the need to investigate and eventually remove the children from her care.\",\n",
       " 'The child spends most of her time with me. Over the past few months CPS has twice assigned me as a guardian protector of sorts of the child due to her mother. Her mother has now been diagnosed with a mental disorder and is being watched closely for that and for drug use.',\n",
       " \"We had the name picked out right away for each gender, we knew how we were going to decorate the room, we notified everyone, we were just ready. Then, 6 months ago, I had a miscarriage. I couldn't stop crying.\",\n",
       " \"Since I found out I pregnant, I've thought about it every second of every day - I doubt that that will change. I had a miscarriage 8 months ago. It happened on February 12th 2019.\",\n",
       " 'On the next day i woke up strong and healthy. Before noon, I developed a sudden and a strange severe pain, which i never expected that could happen due to my health condition. I endure this pain for many hours, Later that day i decided to go to the ER after worrying it could be very serious.',\n",
       " 'The night was what changed everything. I developed and woke up to an extreme pain. This pain radiated in my jaw, teeth, and neck, but was not the ordinary tooth or molar pain.',\n",
       " 'Ive gotten down to thoght about taking my own life. My boyfriend cheated on me with me with one of my friends just becuase he saw her on facebook. I am so upset i can manage i thought he loved me like no one else.',\n",
       " \"The surprises just don't end with this event, they just keep coming and coming and I pray they will settle down soon. The day that I found out I was pregnant, my husband and I were ecstatic. We were so excited for our son to have a sibling.\",\n",
       " 'I still miss him a lot in so many cases and still cry remembering his stories. The worst day of my life is when I lost one of my best friends my grandpa. He was so close to me.',\n",
       " \"I could survive the payments I had to make. Three months ago I discovered that I'm pregnant. It's really hard to believe.\",\n",
       " \"I mean, they're just so sticky and smelly and...they just seem like work. But the more I think about it, the more I realize that this might be a gift. Maybe I'm ready for my life to mean something more than...to be about something more than just me, just getting through, just going from one moment to the next.\",\n",
       " \"But I'm excited, I'm determined, to make the most of this gift. A little over 3 months ago I discovered that I was unexpectedly pregnant. I have a son who just turned 12, and since I'm in my 30's I figured I was done.\",\n",
       " 'It was a normal day in Portland Oregon. I was in the bathroom and some dude was shooting up in the stall. I told the staff to watch out he may be using in the bathroom.',\n",
       " 'I then was placed on disability social security and suddenly found myself retired. Luckily, I just lost some use of my legs and went blind in my left eye, but better than those that suffered far worse then I. Within this time, I became reacquainted with my very first kiss 48 years earlier.',\n",
       " 'Luckily, I just lost some use of my legs and went blind in my left eye, but better than those that suffered far worse then I. Within this time, I became reacquainted with my very first kiss 48 years earlier. Her name was Debbie.',\n",
       " \"And then things got worse......... When I got down to Florida, I found out that I'd been scammed by the person that said they had a mobile home for me to rent. THERE WAS NO FURNISHED HOME!\",\n",
       " 'They are perfect for each other. Two women decided to be together for the rest of their lives on this day. It took place on a breezy and cool May afternoon.',\n",
       " 'Three months ago a trail of events happened that was really awful for me and my family. First my mom fell and was hospitalized. The she had to go to rehab to be able to function better but instead of getting better she had to go to a nursing home.',\n",
       " \"The reception was inside one of the storage facilities, so that didn't help. They were having issues with the food too, as there wasn't enough of it and they had to order pizza. It was nice going and seeing family members I hadn't seen in a long time.\",\n",
       " \"This was turning out to be quite the interesting adventure. I heard a rustling noise behind me so I abruptly looked over my shoulder and realized that I had entered someone else's territory. Instead of seeing a person like I expected, I saw a beautiful deer standing behind me.\",\n",
       " 'Mother and son loving, knowing and understanding each other without words. About three weeks ago I witnessed something scary. I was taking a walk in the park with a friend.',\n",
       " 'The weather was gorgeous and the park was quiet, only some children with their parents playing around, and some people walking about and taking advantage of the beautiful day. Then a kind of rumbling noise started. It morphed rapidly into something more akin to a shrieking noise, with an explosive component somewhere in.',\n",
       " 'Then a kind of rumbling noise started. It morphed rapidly into something more akin to a shrieking noise, with an explosive component somewhere in. And it got louder and louder, to the point where it seemed to fill the air around us completely.',\n",
       " 'And it became quickly obvious that it came from the sky. Six jets, clearly war planes of some kind, flew over us, almost as fast as arrows. They were flying in V formation like geese - dark, deadly, shrieking metal geese.',\n",
       " 'people was jogging and walking on my way. Suddenly, there is big noise from the sky. I looked up to the sky.',\n",
       " 'We decided to take the other bus, the one recommended by the host of the party. We missed that bus by a few minutes. When we finally got on the bus, we ran into one of the worst traffic jams I have ever encountered.',\n",
       " 'We missed that bus by a few minutes. When we finally got on the bus, we ran into one of the worst traffic jams I have ever encountered. It took us hours to get to the party.',\n",
       " 'The event that recently happened to me was that I received a promotion at work. I was actually promoted earlier than I was supposed to be. I was supposed to be promoted in September of 2019, but instead, I was promoted starting in July of 2019.',\n",
       " 'Only recently have things approximated the old days. My wife had a back spasm in which she was unable to move and was in severe pain. This was a long tern event that had been building and had been getting worse and worse.',\n",
       " \"But I didn't expect that I would be working even harder after. It also requires I move to another state. This was five months ago and wow!\",\n",
       " \"She has a little dog named Bailey, and he doesn't really like new people. When my boyfriend sat down on the couch, however, Bailey was immediately taken with him. He probably enjoyed meeting Bailey more than he did my friend!\",\n",
       " \"Conversation was easy, and as expected, they got along wonderfully. Some mutual friends showed up at the restaurant, and we had a brief conversation with them before heading to her house. Once there, we spent a while playing with my friend's dog.\",\n",
       " 'The game came down to the final few minutes, where we led by a mere one point. In an effort to grab a rebound and give us a nice advantage, I was fouled extremely hard and came down badly on my knee. Right away I knew it was bad.',\n",
       " 'I had to have addition repairs done to my knee. It also turns out the recovery is way longer than expected. I was told by the doctor I would be walking again a few days after the procedure.',\n",
       " 'I would highly recommend putting your trust in the JSG team to plan your next vacation! My husband got a huge bonus sent to him in the mail as a check. We both look at each other and smile.',\n",
       " \"In my situation it was well worth it. Me and my husband woke up one day to an email on his phone that had said 'You have been working hard this past week, I will give you a slight raise on your paycheck.' It was his boss.\",\n",
       " \"I watched in amazement as i always did when i saw moose, now was my chance to be quiet and watch because they hadn't seen me yet. While i was watching the moose i heard a scream not too far off which sounded like a cat, and indeed it was. Only 45-50 yards away from the moose was a full grown lynx walking the bank of the river.\",\n",
       " 'were analysis my project and shown the result as accept are reject my project were select which the design. i made high potential and efficiency obtained that was quiet surprising. i am little nervous when submitting my project to the organization team.',\n",
       " 'The doctor also did was blood work. When the results returned the doctor saw I had a high PSA count. It was 12.']"
      ]
     },
     "execution_count": 36,
     "metadata": {},
     "output_type": "execute_result"
    }
   ],
   "source": [
    "import numpy as np\n",
    "neighborhoods = np.vstack([idxs-1, idxs, idxs+1]).T\n",
    "\n",
    "dataset = []\n",
    "for group in neighborhoods:\n",
    "    sentences = [df[df.index == idx].sent.item() for idx in group]\n",
    "    string = \" \".join(sentences)\n",
    "    dataset.append(string)\n",
    "\n",
    "dataset"
   ]
  },
  {
   "cell_type": "code",
   "execution_count": 37,
   "id": "1ee35d01",
   "metadata": {},
   "outputs": [],
   "source": [
    "import json\n",
    "filepath = \"/home/can/dynamic_representations/artifacts/text_inputs/surprisal.json\"\n",
    "with open(filepath, \"w\") as f:\n",
    "    json.dump(dataset, f)"
   ]
  },
  {
   "cell_type": "code",
   "execution_count": null,
   "id": "ad9bc8c6",
   "metadata": {},
   "outputs": [],
   "source": []
  }
 ],
 "metadata": {
  "kernelspec": {
   "display_name": "dynamic_representations",
   "language": "python",
   "name": "python3"
  },
  "language_info": {
   "codemirror_mode": {
    "name": "ipython",
    "version": 3
   },
   "file_extension": ".py",
   "mimetype": "text/x-python",
   "name": "python",
   "nbconvert_exporter": "python",
   "pygments_lexer": "ipython3",
   "version": "3.12.8"
  }
 },
 "nbformat": 4,
 "nbformat_minor": 5
}
