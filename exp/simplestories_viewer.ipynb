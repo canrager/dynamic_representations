{
 "cells": [
  {
   "cell_type": "code",
   "execution_count": null,
   "metadata": {},
   "outputs": [],
   "source": [
    "from src.project_config import DEVICE, MODELS_DIR, ARTIFACTS_DIR\n",
    "from datasets import load_dataset"
   ]
  },
  {
   "cell_type": "code",
   "execution_count": null,
   "metadata": {},
   "outputs": [],
   "source": [
    "num_stories = 100\n",
    "dname = \"SimpleStories/SimpleStories\""
   ]
  },
  {
   "cell_type": "code",
   "execution_count": null,
   "metadata": {},
   "outputs": [],
   "source": [
    "if num_stories is not None:\n",
    "    split = f\"train[:{num_stories}]\"\n",
    "else:\n",
    "    split = \"train\"\n",
    "\n",
    "all_stories = load_dataset(path=dname, cache_dir=MODELS_DIR, split=split)\n",
    "df = all_stories.to_pandas()"
   ]
  },
  {
   "cell_type": "code",
   "execution_count": null,
   "metadata": {},
   "outputs": [],
   "source": [
    "for i, story in enumerate(all_stories):\n",
    "    print(story['story'])\n",
    "    if i > 5:\n",
    "        break"
   ]
  },
  {
   "cell_type": "code",
   "execution_count": null,
   "metadata": {},
   "outputs": [],
   "source": [
    "df[[\"story\", \"feature\"]].head(20)"
   ]
  },
  {
   "cell_type": "code",
   "execution_count": null,
   "metadata": {},
   "outputs": [],
   "source": [
    "df.columns"
   ]
  },
  {
   "cell_type": "code",
   "execution_count": null,
   "metadata": {},
   "outputs": [],
   "source": [
    "df[\"feature\"].unique()"
   ]
  },
  {
   "cell_type": "code",
   "execution_count": null,
   "metadata": {},
   "outputs": [],
   "source": [
    "selected_feature = \"climactic structure\"\n",
    "\n",
    "df_feature = df[df[\"feature\"] == selected_feature]\n",
    "for idx, story in df[\"story\"].items():\n",
    "    print(f\"Story {idx}\")\n",
    "    print(story)\n",
    "    print(\"-\"*100)\n"
   ]
  },
  {
   "cell_type": "markdown",
   "metadata": {},
   "source": [
    "\"a twisted story\" is not that twisted. I don't see a true \"twist\" here.\n",
    "\n",
    "\"climatic stories\" are really building up, usually longer.\n",
    "\n",
    "\"non-linear timeline\" has good sudden breaks, not consistent though\n",
    "\n",
    "\"multiple perspectives\" first one has a good break, but oftentimes its simply two stories after each other\n",
    "\n",
    "\"juxtapositon\": I don't see the juxtaposition here."
   ]
  },
  {
   "cell_type": "markdown",
   "metadata": {},
   "source": [
    "# Choosing 5 fundamentally different stories"
   ]
  },
  {
   "cell_type": "code",
   "execution_count": null,
   "metadata": {},
   "outputs": [],
   "source": [
    "selected_idxs = [0, 3, 4, 7, 14]\n",
    "\n",
    "df_subset = df.iloc[selected_idxs]\n",
    "for idx, story in df_subset[\"story\"].items():\n",
    "    print(f\"Story {idx}\")\n",
    "    print(story)\n",
    "    print(\"-\"*100)"
   ]
  },
  {
   "cell_type": "code",
   "execution_count": null,
   "metadata": {},
   "outputs": [],
   "source": [
    "df_subset"
   ]
  },
  {
   "cell_type": "code",
   "execution_count": null,
   "metadata": {},
   "outputs": [],
   "source": []
  }
 ],
 "metadata": {
  "kernelspec": {
   "display_name": ".venv",
   "language": "python",
   "name": "python3"
  },
  "language_info": {
   "codemirror_mode": {
    "name": "ipython",
    "version": 3
   },
   "file_extension": ".py",
   "mimetype": "text/x-python",
   "name": "python",
   "nbconvert_exporter": "python",
   "pygments_lexer": "ipython3",
   "version": "3.12.8"
  }
 },
 "nbformat": 4,
 "nbformat_minor": 2
}
