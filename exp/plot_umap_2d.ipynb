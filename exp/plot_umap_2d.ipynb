{
 "cells": [
  {
   "cell_type": "markdown",
   "metadata": {},
   "source": [
    "# UMAP 2D Visualization from Results File\n",
    "\n",
    "This notebook generates a 2D UMAP plot from a saved results file.\n",
    "\n",
    "**Usage:** Update the `RESULTS_PATH` variable below with your results file path."
   ]
  },
  {
   "cell_type": "code",
   "execution_count": null,
   "metadata": {},
   "outputs": [],
   "source": [
    "# Configuration\n",
    "RESULTS_PATH = \"/home/can/dynamic_representations/artifacts/results/pred_structure_20251020_183745_temporal_pred_codes_Gemma-2-2B_SimpleStories.json\"\n",
    "\n",
    "# Optional plot parameters\n",
    "NUM_SEQUENCES = [2]  # Limit sequences: int for first N, list for specific indices (e.g., [0, 5, 10]), or None for all\n",
    "CONNECT_SEQUENCES = [0]  # List of sequence indices AFTER filtering with NUM_sequences to connect (e.g., [0, 1, 5]) or None for all or empty list [] for none\n",
    "FILTER_WORDS = None  # List of strings to filter points by (e.g., [\"word1\", \"word2\"]) or None to show all points"
   ]
  },
  {
   "cell_type": "code",
   "execution_count": 104,
   "metadata": {},
   "outputs": [],
   "source": [
    "import json\n",
    "import numpy as np\n",
    "import plotly.graph_objects as go\n",
    "from pathlib import Path"
   ]
  },
  {
   "cell_type": "code",
   "execution_count": 105,
   "metadata": {},
   "outputs": [
    {
     "name": "stdout",
     "output_type": "stream",
     "text": [
      "Embedding shape: (1000, 100, 2)\n",
      "Position labels shape: (1000, 100)\n",
      "Hover texts available: True\n",
      "Config: {'llm': {'name': 'Gemma-2-2B', 'hf_name': 'google/gemma-2-2b', 'revision': None, 'layer_idx': 12, 'hidden_dim': 2304, 'batch_size': 50}, 'sae': {'name': 'temporal', 'local_weights_path': 'artifacts/trained_saes/selftrain/temporal', 'dict_class': 'temporal', 'dict_size': 9216, 'batch_size': 10}, 'env': {'device': 'cuda', 'dtype': 'bfloat16', 'hf_cache_dir': '/home/can/models', 'plots_dir': 'artifacts/plots', 'results_dir': 'artifacts/results', 'text_inputs_dir': 'artifacts/text_inputs', 'activations_dir': 'artifacts/activations'}, 'data': {'name': 'SimpleStories', 'hf_name': 'SimpleStories/SimpleStories', 'num_sequences': 1000, 'context_length': 500}, 'act_path': 'pred_codes', 'min_p': 0, 'max_p': 100, 'num_p': 100, 'do_log_scale': False, 'n_components': 2, 'n_neighbors': 15, 'min_dist': 0.1, 'metric': 'euclidean', 'random_state': 42, 'num_sequences': None, 'connect_sequences': False, 'hover_window': 500}\n"
     ]
    }
   ],
   "source": [
    "# Load results\n",
    "with open(RESULTS_PATH, 'r') as f:\n",
    "    result_dict = json.load(f)\n",
    "\n",
    "# Extract data\n",
    "embedding = np.array(result_dict[\"embedding\"])  # (B, L, n_components)\n",
    "pos_labels = np.array(result_dict[\"pos_labels\"])  # (B, L)\n",
    "pos_indices = result_dict[\"pos_indices\"]\n",
    "hover_texts_saved = result_dict.get(\"hover_texts\", None)  # List of hover texts\n",
    "config = result_dict[\"config\"]\n",
    "\n",
    "print(f\"Embedding shape: {embedding.shape}\")\n",
    "print(f\"Position labels shape: {pos_labels.shape}\")\n",
    "print(f\"Hover texts available: {hover_texts_saved is not None}\")\n",
    "print(f\"Config: {config}\")"
   ]
  },
  {
   "cell_type": "code",
   "execution_count": 106,
   "metadata": {},
   "outputs": [],
   "source": [
    "event_boundaries = [0, 19, 53, 71]"
   ]
  },
  {
   "cell_type": "code",
   "execution_count": 107,
   "metadata": {},
   "outputs": [
    {
     "name": "stdout",
     "output_type": "stream",
     "text": [
      "Plotting 1 sequences with 100 points each\n"
     ]
    }
   ],
   "source": [
    "# Subsample sequences if requested\n",
    "if NUM_SEQUENCES is not None:\n",
    "    if isinstance(NUM_SEQUENCES, list):\n",
    "        # Use specific indices\n",
    "        indices = [i for i in NUM_SEQUENCES if i < len(embedding)]  # Validate indices\n",
    "        embedding = embedding[indices]\n",
    "        pos_labels = pos_labels[indices]\n",
    "        if hover_texts_saved is not None:\n",
    "            # hover_texts is a flat list, need to select corresponding elements\n",
    "            seq_len = embedding.shape[1]\n",
    "            new_hover_texts = []\n",
    "            for idx in indices:\n",
    "                start = idx * seq_len\n",
    "                end = start + seq_len\n",
    "                new_hover_texts.extend(hover_texts_saved[start:end])\n",
    "            hover_texts_saved = new_hover_texts\n",
    "    else:\n",
    "        # Use first N sequences\n",
    "        embedding = embedding[:NUM_SEQUENCES]\n",
    "        pos_labels = pos_labels[:NUM_SEQUENCES]\n",
    "        if hover_texts_saved is not None:\n",
    "            seq_len = embedding.shape[1]\n",
    "            hover_texts_saved = hover_texts_saved[:NUM_SEQUENCES * seq_len]\n",
    "\n",
    "batch_size, seq_len, n_dims = embedding.shape\n",
    "print(f\"Plotting {batch_size} sequences with {seq_len} points each\")"
   ]
  },
  {
   "cell_type": "code",
   "execution_count": 108,
   "metadata": {},
   "outputs": [
    {
     "name": "stdout",
     "output_type": "stream",
     "text": [
      "Title: UMAP of temporal pred codes SimpleStories\n"
     ]
    }
   ],
   "source": [
    "# Build title\n",
    "act_path = config.get('act_path', 'unknown')\n",
    "llm_name = config.get('llm', {}).get('name', 'unknown')\n",
    "data_name = config.get('data', {}).get('name', 'unknown')\n",
    "sae_cfg = config.get('sae', {})\n",
    "if sae_cfg is not None:\n",
    "    sae_name = sae_cfg.get('name', '')\n",
    "else:\n",
    "    sae_name = \"LLM\"\n",
    "\n",
    "if act_path == \"activations\":\n",
    "    title_prefix = \"UMAP of LLM activations\"\n",
    "elif act_path == \"codes\":\n",
    "    title_prefix = f\"UMAP of {sae_name} codes\"\n",
    "elif act_path == \"pred_codes\":\n",
    "    title_prefix = f\"UMAP of {sae_name} pred codes\"\n",
    "elif act_path == \"novel_codes\":\n",
    "    title_prefix = f\"UMAP of {sae_name} novel codes\"\n",
    "else:\n",
    "    title_prefix = f\"UMAP of {act_path}\"\n",
    "    \n",
    "title_prefix += f\" {data_name}\"\n",
    "print(f\"Title: {title_prefix}\")"
   ]
  },
  {
   "cell_type": "code",
   "execution_count": 109,
   "metadata": {},
   "outputs": [],
   "source": [
    "# Flatten for plotting\n",
    "embedding_flat = embedding.reshape(-1, n_dims)\n",
    "pos_labels_flat = pos_labels.flatten()\n",
    "\n",
    "# Use saved hover texts if available, otherwise fallback to position only\n",
    "if hover_texts_saved is not None:\n",
    "    # Make special tokens bold and underlined\n",
    "    hover_texts = [text.replace('<end_of_turn>', '<b><u>&lt;end_of_turn&gt;</u></b>').replace('<start_of_turn>', '<b><u>&lt;start_of_turn&gt;</u></b>') for text in hover_texts_saved]\n",
    "else:\n",
    "    hover_texts = [f\"Position: {p}\" for p in pos_labels_flat]\n",
    "\n",
    "# Apply FILTER_WORDS if specified\n",
    "if FILTER_WORDS is not None:\n",
    "    # Create mask for points that contain at least one filter word\n",
    "    mask = [any(word in text for word in FILTER_WORDS) for text in hover_texts]\n",
    "    embedding_flat = embedding_flat[mask]\n",
    "    pos_labels_flat = pos_labels_flat[mask]\n",
    "    hover_texts = [text for text, m in zip(hover_texts, mask) if m]\n",
    "    print(f\"Filtered to {len(hover_texts)} points containing filter words: {FILTER_WORDS}\")"
   ]
  },
  {
   "cell_type": "code",
   "execution_count": 110,
   "metadata": {},
   "outputs": [
    {
     "data": {
      "application/vnd.plotly.v1+json": {
       "config": {
        "plotlyServerURL": "https://plot.ly"
       },
       "data": [
        {
         "hovertemplate": "%{text}<br>UMAP1: %{x:.2f}<br>UMAP2: %{y:.2f}<extra></extra>",
         "marker": {
          "color": [
           0,
           1,
           2,
           3,
           4,
           5,
           6,
           7,
           8,
           9,
           10,
           11,
           12,
           13,
           14,
           15,
           16,
           17,
           18
          ],
          "colorbar": {
           "title": {
            "text": "Position Index"
           }
          },
          "colorscale": [
           [
            0,
            "#440154"
           ],
           [
            0.1111111111111111,
            "#482878"
           ],
           [
            0.2222222222222222,
            "#3e4989"
           ],
           [
            0.3333333333333333,
            "#31688e"
           ],
           [
            0.4444444444444444,
            "#26828e"
           ],
           [
            0.5555555555555556,
            "#1f9e89"
           ],
           [
            0.6666666666666666,
            "#35b779"
           ],
           [
            0.7777777777777778,
            "#6ece58"
           ],
           [
            0.8888888888888888,
            "#b5de2b"
           ],
           [
            1,
            "#fde725"
           ]
          ],
          "opacity": 0.7,
          "showscale": true,
          "size": 8,
          "symbol": "circle"
         },
         "mode": "markers",
         "showlegend": false,
         "text": [
          "Position: 0<br>Story: <b><bos></b>",
          "Position: 1<br>Story: <bos><b>P</b>",
          "Position: 2<br>Story: <bos>P<b>uddles</b>",
          "Position: 3<br>Story: <bos>Puddles<b> filled</b>",
          "Position: 4<br>Story: <bos>Puddles filled<b> the</b>",
          "Position: 5<br>Story: <bos>Puddles filled the<b> streets</b>",
          "Position: 6<br>Story: <bos>Puddles filled the streets<b> after</b>",
          "Position: 7<br>Story: <bos>Puddles filled the streets after<b> the</b>",
          "Position: 8<br>Story: <bos>Puddles filled the streets after the<b> rain</b>",
          "Position: 9<br>Story: <bos>Puddles filled the streets after the rain<b>.</b>",
          "Position: 10<br>Story: <bos>Puddles filled the streets after the rain.<b> A</b>",
          "Position: 11<br>Story: <bos>Puddles filled the streets after the rain. A<b> boy</b>",
          "Position: 12<br>Story: <bos>Puddles filled the streets after the rain. A boy<b> stepped</b>",
          "Position: 13<br>Story: <bos>Puddles filled the streets after the rain. A boy stepped<b> carefully</b>",
          "Position: 14<br>Story: <bos>Puddles filled the streets after the rain. A boy stepped carefully<b>,</b>",
          "Position: 15<br>Story: <bos>Puddles filled the streets after the rain. A boy stepped carefully,<br><b> shoes</b>",
          "Position: 16<br>Story: <bos>Puddles filled the streets after the rain. A boy stepped carefully,<br> shoes<b> splashing</b>",
          "Position: 17<br>Story: <bos>Puddles filled the streets after the rain. A boy stepped carefully,<br> shoes splashing<b>.</b>",
          "Position: 18<br>Story: <bos>Puddles filled the streets after the rain. A boy stepped carefully,<br> shoes splashing.<b> He</b>"
         ],
         "type": "scatter",
         "x": {
          "bdata": "AAAAYBWTMkAAAABgu2sNQAAAAIBH9hzAAAAAQOF6BEAAAABAji8IQAAAAKDGgAhAAAAA4KVPCEAAAADgy7UIQAAAAIBDKwhAAAAAQLY0CEAAAADgj+wCQAAAAOD2uvY/AAAAIBaasL8AAAAAYo/NPwAAAOAXl9I/AAAAwLHu+T8AAABAp8T6PwAAAAAhGPo/AAAAoKnG+j8=",
          "dtype": "f8"
         },
         "y": {
          "bdata": "AAAAILIAFUAAAACgI6sqwAAAACAbSTBAAAAAoE17GUAAAADgw4EUQAAAACD1XBRAAAAA4AAZFEAAAABg/dQTQAAAAKBe+RJAAAAAIDu8EkAAAACgrWUQQAAAAKDnEwZAAAAAQO6BDEAAAABgBLn8PwAAAEB5J/0/AAAAwInv5z8AAACAa/jmPwAAAIDZGOc/AAAA4Nju5j8=",
          "dtype": "f8"
         }
        },
        {
         "hovertemplate": "%{text}<br>UMAP1: %{x:.2f}<br>UMAP2: %{y:.2f}<extra></extra>",
         "marker": {
          "color": [
           71,
           72,
           73,
           74,
           75,
           76,
           77,
           78,
           79,
           80,
           81,
           82,
           83,
           84,
           85,
           86,
           87,
           88,
           89,
           90,
           91,
           92,
           93,
           94,
           95,
           96,
           97,
           98,
           100
          ],
          "colorscale": [
           [
            0,
            "#440154"
           ],
           [
            0.1111111111111111,
            "#482878"
           ],
           [
            0.2222222222222222,
            "#3e4989"
           ],
           [
            0.3333333333333333,
            "#31688e"
           ],
           [
            0.4444444444444444,
            "#26828e"
           ],
           [
            0.5555555555555556,
            "#1f9e89"
           ],
           [
            0.6666666666666666,
            "#35b779"
           ],
           [
            0.7777777777777778,
            "#6ece58"
           ],
           [
            0.8888888888888888,
            "#b5de2b"
           ],
           [
            1,
            "#fde725"
           ]
          ],
          "opacity": 0.7,
          "showscale": false,
          "size": 8,
          "symbol": "cross"
         },
         "mode": "markers",
         "showlegend": false,
         "text": [
          "Position: 71<br>Story: <bos>Puddles filled the streets after the rain. A boy stepped carefully,<br> shoes splashing. He had a secret. He had seen a ghost in the<br> old house. The townsfolk said it was just a tale, but he<br> knew better. The ghost was real, and it needed help. His heart<br> raced, but he felt a pull to the house.<b> He</b>",
          "Position: 72<br>Story: <bos>Puddles filled the streets after the rain. A boy stepped carefully,<br> shoes splashing. He had a secret. He had seen a ghost in the<br> old house. The townsfolk said it was just a tale, but he<br> knew better. The ghost was real, and it needed help. His heart<br> raced, but he felt a pull to the house. He<b> could</b>",
          "Position: 73<br>Story: <bos>Puddles filled the streets after the rain. A boy stepped carefully,<br> shoes splashing. He had a secret. He had seen a ghost in the<br> old house. The townsfolk said it was just a tale, but he<br> knew better. The ghost was real, and it needed help. His heart<br> raced, but he felt a pull to the house. He could<b> not</b>",
          "Position: 74<br>Story: <bos>Puddles filled the streets after the rain. A boy stepped carefully,<br> shoes splashing. He had a secret. He had seen a ghost in the<br> old house. The townsfolk said it was just a tale, but he<br> knew better. The ghost was real, and it needed help. His heart<br> raced, but he felt a pull to the house. He could not<b> ignore</b>",
          "Position: 75<br>Story: <bos>Puddles filled the streets after the rain. A boy stepped carefully,<br> shoes splashing. He had a secret. He had seen a ghost in the<br> old house. The townsfolk said it was just a tale, but he<br> knew better. The ghost was real, and it needed help. His heart<br> raced, but he felt a pull to the house. He could not ignore<br><b> it</b>",
          "Position: 76<br>Story: <bos>Puddles filled the streets after the rain. A boy stepped carefully,<br> shoes splashing. He had a secret. He had seen a ghost in the<br> old house. The townsfolk said it was just a tale, but he<br> knew better. The ghost was real, and it needed help. His heart<br> raced, but he felt a pull to the house. He could not ignore<br> it<b>.</b>",
          "Position: 77<br>Story: <bos>Puddles filled the streets after the rain. A boy stepped carefully,<br> shoes splashing. He had a secret. He had seen a ghost in the<br> old house. The townsfolk said it was just a tale, but he<br> knew better. The ghost was real, and it needed help. His heart<br> raced, but he felt a pull to the house. He could not ignore<br> it.<b> He</b>",
          "Position: 78<br>Story: <bos>Puddles filled the streets after the rain. A boy stepped carefully,<br> shoes splashing. He had a secret. He had seen a ghost in the<br> old house. The townsfolk said it was just a tale, but he<br> knew better. The ghost was real, and it needed help. His heart<br> raced, but he felt a pull to the house. He could not ignore<br> it. He<b> was</b>",
          "Position: 79<br>Story: <bos>Puddles filled the streets after the rain. A boy stepped carefully,<br> shoes splashing. He had a secret. He had seen a ghost in the<br> old house. The townsfolk said it was just a tale, but he<br> knew better. The ghost was real, and it needed help. His heart<br> raced, but he felt a pull to the house. He could not ignore<br> it. He was<b> the</b>",
          "Position: 80<br>Story: <bos>Puddles filled the streets after the rain. A boy stepped carefully,<br> shoes splashing. He had a secret. He had seen a ghost in the<br> old house. The townsfolk said it was just a tale, but he<br> knew better. The ghost was real, and it needed help. His heart<br> raced, but he felt a pull to the house. He could not ignore<br> it. He was the<b> only</b>",
          "Position: 81<br>Story: <bos>Puddles filled the streets after the rain. A boy stepped carefully,<br> shoes splashing. He had a secret. He had seen a ghost in the<br> old house. The townsfolk said it was just a tale, but he<br> knew better. The ghost was real, and it needed help. His heart<br> raced, but he felt a pull to the house. He could not ignore<br> it. He was the only<b> one</b>",
          "Position: 82<br>Story: <bos>Puddles filled the streets after the rain. A boy stepped carefully,<br> shoes splashing. He had a secret. He had seen a ghost in the<br> old house. The townsfolk said it was just a tale, but he<br> knew better. The ghost was real, and it needed help. His heart<br> raced, but he felt a pull to the house. He could not ignore<br> it. He was the only one<b> who</b>",
          "Position: 83<br>Story: <bos>Puddles filled the streets after the rain. A boy stepped carefully,<br> shoes splashing. He had a secret. He had seen a ghost in the<br> old house. The townsfolk said it was just a tale, but he<br> knew better. The ghost was real, and it needed help. His heart<br> raced, but he felt a pull to the house. He could not ignore<br> it. He was the only one who<b> could</b>",
          "Position: 84<br>Story: <bos>Puddles filled the streets after the rain. A boy stepped carefully,<br> shoes splashing. He had a secret. He had seen a ghost in the<br> old house. The townsfolk said it was just a tale, but he<br> knew better. The ghost was real, and it needed help. His heart<br> raced, but he felt a pull to the house. He could not ignore<br> it. He was the only one who could<b> save</b>",
          "Position: 85<br>Story: <bos>Puddles filled the streets after the rain. A boy stepped carefully,<br> shoes splashing. He had a secret. He had seen a ghost in the<br> old house. The townsfolk said it was just a tale, but he<br> knew better. The ghost was real, and it needed help. His heart<br> raced, but he felt a pull to the house. He could not ignore<br> it. He was the only one who could save<b> the</b>",
          "Position: 86<br>Story: <bos>Puddles filled the streets after the rain. A boy stepped carefully,<br> shoes splashing. He had a secret. He had seen a ghost in the<br> old house. The townsfolk said it was just a tale, but he<br> knew better. The ghost was real, and it needed help. His heart<br> raced, but he felt a pull to the house. He could not ignore<br> it. He was the only one who could save the<b> ghost</b>",
          "Position: 87<br>Story: <bos>Puddles filled the streets after the rain. A boy stepped carefully,<br> shoes splashing. He had a secret. He had seen a ghost in the<br> old house. The townsfolk said it was just a tale, but he<br> knew better. The ghost was real, and it needed help. His heart<br> raced, but he felt a pull to the house. He could not ignore<br> it. He was the only one who could save the ghost<b>.</b>",
          "Position: 88<br>Story: <bos>Puddles filled the streets after the rain. A boy stepped carefully,<br> shoes splashing. He had a secret. He had seen a ghost in the<br> old house. The townsfolk said it was just a tale, but he<br> knew better. The ghost was real, and it needed help. His heart<br> raced, but he felt a pull to the house. He could not ignore<br> it. He was the only one who could save the ghost.<b>\\n</b>",
          "Position: 89<br>Story: <bos>Puddles filled the streets after the rain. A boy stepped carefully,<br> shoes splashing. He had a secret. He had seen a ghost in the<br> old house. The townsfolk said it was just a tale, but he<br> knew better. The ghost was real, and it needed help. His heart<br> raced, but he felt a pull to the house. He could not ignore<br> it. He was the only one who could save the ghost.\\n<b>The</b>",
          "Position: 90<br>Story: <bos>Puddles filled the streets after the rain. A boy stepped carefully,<br> shoes splashing. He had a secret. He had seen a ghost in the<br> old house. The townsfolk said it was just a tale, but he<br> knew better. The ghost was real, and it needed help. His heart<br> raced, but he felt a pull to the house. He could not ignore<br> it. He was the only one who could save the ghost.\\nThe<br><b> old</b>",
          "Position: 91<br>Story: <bos>Puddles filled the streets after the rain. A boy stepped carefully,<br> shoes splashing. He had a secret. He had seen a ghost in the<br> old house. The townsfolk said it was just a tale, but he<br> knew better. The ghost was real, and it needed help. His heart<br> raced, but he felt a pull to the house. He could not ignore<br> it. He was the only one who could save the ghost.\\nThe<br> old<b> house</b>",
          "Position: 92<br>Story: <bos>Puddles filled the streets after the rain. A boy stepped carefully,<br> shoes splashing. He had a secret. He had seen a ghost in the<br> old house. The townsfolk said it was just a tale, but he<br> knew better. The ghost was real, and it needed help. His heart<br> raced, but he felt a pull to the house. He could not ignore<br> it. He was the only one who could save the ghost.\\nThe<br> old house<b> stood</b>",
          "Position: 93<br>Story: <bos>Puddles filled the streets after the rain. A boy stepped carefully,<br> shoes splashing. He had a secret. He had seen a ghost in the<br> old house. The townsfolk said it was just a tale, but he<br> knew better. The ghost was real, and it needed help. His heart<br> raced, but he felt a pull to the house. He could not ignore<br> it. He was the only one who could save the ghost.\\nThe<br> old house stood<b> tall</b>",
          "Position: 94<br>Story: <bos>Puddles filled the streets after the rain. A boy stepped carefully,<br> shoes splashing. He had a secret. He had seen a ghost in the<br> old house. The townsfolk said it was just a tale, but he<br> knew better. The ghost was real, and it needed help. His heart<br> raced, but he felt a pull to the house. He could not ignore<br> it. He was the only one who could save the ghost.\\nThe<br> old house stood tall<b> and</b>",
          "Position: 95<br>Story: <bos>Puddles filled the streets after the rain. A boy stepped carefully,<br> shoes splashing. He had a secret. He had seen a ghost in the<br> old house. The townsfolk said it was just a tale, but he<br> knew better. The ghost was real, and it needed help. His heart<br> raced, but he felt a pull to the house. He could not ignore<br> it. He was the only one who could save the ghost.\\nThe<br> old house stood tall and<b> silent</b>",
          "Position: 96<br>Story: <bos>Puddles filled the streets after the rain. A boy stepped carefully,<br> shoes splashing. He had a secret. He had seen a ghost in the<br> old house. The townsfolk said it was just a tale, but he<br> knew better. The ghost was real, and it needed help. His heart<br> raced, but he felt a pull to the house. He could not ignore<br> it. He was the only one who could save the ghost.\\nThe<br> old house stood tall and silent<b>,</b>",
          "Position: 97<br>Story: <bos>Puddles filled the streets after the rain. A boy stepped carefully,<br> shoes splashing. He had a secret. He had seen a ghost in the<br> old house. The townsfolk said it was just a tale, but he<br> knew better. The ghost was real, and it needed help. His heart<br> raced, but he felt a pull to the house. He could not ignore<br> it. He was the only one who could save the ghost.\\nThe<br> old house stood tall and silent,<b> windows</b>",
          "Position: 98<br>Story: <bos>Puddles filled the streets after the rain. A boy stepped carefully,<br> shoes splashing. He had a secret. He had seen a ghost in the<br> old house. The townsfolk said it was just a tale, but he<br> knew better. The ghost was real, and it needed help. His heart<br> raced, but he felt a pull to the house. He could not ignore<br> it. He was the only one who could save the ghost.\\nThe<br> old house stood tall and silent, windows<b> dark</b>",
          "Position: 100<br>Story: <bos>Puddles filled the streets after the rain. A boy stepped carefully,<br> shoes splashing. He had a secret. He had seen a ghost in the<br> old house. The townsfolk said it was just a tale, but he<br> knew better. The ghost was real, and it needed help. His heart<br> raced, but he felt a pull to the house. He could not ignore<br> it. He was the only one who could save the ghost.\\nThe<br> old house stood tall and silent, windows dark like"
         ],
         "type": "scatter",
         "x": {
          "bdata": "AAAAwM9IDMAAAADgXGYMwAAAAGDHYwzAAAAAoOtNDMAAAADAUJkMwAAAAEB5XQzAAAAAABFqDMAAAAAgikMMwAAAAOCXbAzAAAAAQCKDDMAAAADgp4YMwAAAAGC9mQzAAAAAIO2BDMAAAABgboIMwAAAAEBZpQzAAAAA4IuGDMAAAABAN4cMwAAAAKA8SwzAAAAAQLp5DMAAAADg4WQMwAAAAACd4ue/AAAAADlw578AAADg7i3nvwAAACCTX+e/AAAAwGFc578AAACAwz7nvwAAAOBGP+e/AAAAYNM1578AAAAguIjmvw==",
          "dtype": "f8"
         },
         "y": {
          "bdata": "AAAAIFZlH0AAAABAVnAfQAAAAGC4cR9AAAAAoIBlH0AAAAAginQfQAAAAKCjcx9AAAAAABN3H0AAAACAKo0fQAAAAABreR9AAAAA4J2WH0AAAABAN5cfQAAAAGACnB9AAAAAQEiTH0AAAAAAVI8fQAAAAADRlh9AAAAAAK6PH0AAAABgVZgfQAAAAKCHeR9AAAAAgGGhH0AAAABApKIfQAAAAMAEigPAAAAAoDh6A8AAAAAAD3ADwAAAAEAfewPAAAAAQOB5A8AAAABAcnMDwAAAAMCBdQPAAAAA4MpuA8AAAABgvDUDwA==",
          "dtype": "f8"
         }
        },
        {
         "hovertemplate": "%{text}<br>UMAP1: %{x:.2f}<br>UMAP2: %{y:.2f}<extra></extra>",
         "marker": {
          "color": [
           19,
           20,
           21,
           22,
           23,
           24,
           25,
           26,
           27,
           28,
           29,
           30,
           31,
           32,
           33,
           34,
           35,
           36,
           37,
           38,
           39,
           40,
           41,
           42,
           43,
           44,
           45,
           46,
           47,
           48,
           49,
           50,
           51,
           52
          ],
          "colorscale": [
           [
            0,
            "#440154"
           ],
           [
            0.1111111111111111,
            "#482878"
           ],
           [
            0.2222222222222222,
            "#3e4989"
           ],
           [
            0.3333333333333333,
            "#31688e"
           ],
           [
            0.4444444444444444,
            "#26828e"
           ],
           [
            0.5555555555555556,
            "#1f9e89"
           ],
           [
            0.6666666666666666,
            "#35b779"
           ],
           [
            0.7777777777777778,
            "#6ece58"
           ],
           [
            0.8888888888888888,
            "#b5de2b"
           ],
           [
            1,
            "#fde725"
           ]
          ],
          "opacity": 0.7,
          "showscale": false,
          "size": 8,
          "symbol": "square"
         },
         "mode": "markers",
         "showlegend": false,
         "text": [
          "Position: 19<br>Story: <bos>Puddles filled the streets after the rain. A boy stepped carefully,<br> shoes splashing. He<b> had</b>",
          "Position: 20<br>Story: <bos>Puddles filled the streets after the rain. A boy stepped carefully,<br> shoes splashing. He had<b> a</b>",
          "Position: 21<br>Story: <bos>Puddles filled the streets after the rain. A boy stepped carefully,<br> shoes splashing. He had a<b> secret</b>",
          "Position: 22<br>Story: <bos>Puddles filled the streets after the rain. A boy stepped carefully,<br> shoes splashing. He had a secret<b>.</b>",
          "Position: 23<br>Story: <bos>Puddles filled the streets after the rain. A boy stepped carefully,<br> shoes splashing. He had a secret.<b> He</b>",
          "Position: 24<br>Story: <bos>Puddles filled the streets after the rain. A boy stepped carefully,<br> shoes splashing. He had a secret. He<b> had</b>",
          "Position: 25<br>Story: <bos>Puddles filled the streets after the rain. A boy stepped carefully,<br> shoes splashing. He had a secret. He had<b> seen</b>",
          "Position: 26<br>Story: <bos>Puddles filled the streets after the rain. A boy stepped carefully,<br> shoes splashing. He had a secret. He had seen<b> a</b>",
          "Position: 27<br>Story: <bos>Puddles filled the streets after the rain. A boy stepped carefully,<br> shoes splashing. He had a secret. He had seen a<b> ghost</b>",
          "Position: 28<br>Story: <bos>Puddles filled the streets after the rain. A boy stepped carefully,<br> shoes splashing. He had a secret. He had seen a ghost<b> in</b>",
          "Position: 29<br>Story: <bos>Puddles filled the streets after the rain. A boy stepped carefully,<br> shoes splashing. He had a secret. He had seen a ghost in<b> the</b>",
          "Position: 30<br>Story: <bos>Puddles filled the streets after the rain. A boy stepped carefully,<br> shoes splashing. He had a secret. He had seen a ghost in the<br><b> old</b>",
          "Position: 31<br>Story: <bos>Puddles filled the streets after the rain. A boy stepped carefully,<br> shoes splashing. He had a secret. He had seen a ghost in the<br> old<b> house</b>",
          "Position: 32<br>Story: <bos>Puddles filled the streets after the rain. A boy stepped carefully,<br> shoes splashing. He had a secret. He had seen a ghost in the<br> old house<b>.</b>",
          "Position: 33<br>Story: <bos>Puddles filled the streets after the rain. A boy stepped carefully,<br> shoes splashing. He had a secret. He had seen a ghost in the<br> old house.<b> The</b>",
          "Position: 34<br>Story: <bos>Puddles filled the streets after the rain. A boy stepped carefully,<br> shoes splashing. He had a secret. He had seen a ghost in the<br> old house. The<b> towns</b>",
          "Position: 35<br>Story: <bos>Puddles filled the streets after the rain. A boy stepped carefully,<br> shoes splashing. He had a secret. He had seen a ghost in the<br> old house. The towns<b>folk</b>",
          "Position: 36<br>Story: <bos>Puddles filled the streets after the rain. A boy stepped carefully,<br> shoes splashing. He had a secret. He had seen a ghost in the<br> old house. The townsfolk<b> said</b>",
          "Position: 37<br>Story: <bos>Puddles filled the streets after the rain. A boy stepped carefully,<br> shoes splashing. He had a secret. He had seen a ghost in the<br> old house. The townsfolk said<b> it</b>",
          "Position: 38<br>Story: <bos>Puddles filled the streets after the rain. A boy stepped carefully,<br> shoes splashing. He had a secret. He had seen a ghost in the<br> old house. The townsfolk said it<b> was</b>",
          "Position: 39<br>Story: <bos>Puddles filled the streets after the rain. A boy stepped carefully,<br> shoes splashing. He had a secret. He had seen a ghost in the<br> old house. The townsfolk said it was<b> just</b>",
          "Position: 40<br>Story: <bos>Puddles filled the streets after the rain. A boy stepped carefully,<br> shoes splashing. He had a secret. He had seen a ghost in the<br> old house. The townsfolk said it was just<b> a</b>",
          "Position: 41<br>Story: <bos>Puddles filled the streets after the rain. A boy stepped carefully,<br> shoes splashing. He had a secret. He had seen a ghost in the<br> old house. The townsfolk said it was just a<b> tale</b>",
          "Position: 42<br>Story: <bos>Puddles filled the streets after the rain. A boy stepped carefully,<br> shoes splashing. He had a secret. He had seen a ghost in the<br> old house. The townsfolk said it was just a tale<b>,</b>",
          "Position: 43<br>Story: <bos>Puddles filled the streets after the rain. A boy stepped carefully,<br> shoes splashing. He had a secret. He had seen a ghost in the<br> old house. The townsfolk said it was just a tale,<b> but</b>",
          "Position: 44<br>Story: <bos>Puddles filled the streets after the rain. A boy stepped carefully,<br> shoes splashing. He had a secret. He had seen a ghost in the<br> old house. The townsfolk said it was just a tale, but<b> he</b>",
          "Position: 45<br>Story: <bos>Puddles filled the streets after the rain. A boy stepped carefully,<br> shoes splashing. He had a secret. He had seen a ghost in the<br> old house. The townsfolk said it was just a tale, but he<br><b> knew</b>",
          "Position: 46<br>Story: <bos>Puddles filled the streets after the rain. A boy stepped carefully,<br> shoes splashing. He had a secret. He had seen a ghost in the<br> old house. The townsfolk said it was just a tale, but he<br> knew<b> better</b>",
          "Position: 47<br>Story: <bos>Puddles filled the streets after the rain. A boy stepped carefully,<br> shoes splashing. He had a secret. He had seen a ghost in the<br> old house. The townsfolk said it was just a tale, but he<br> knew better<b>.</b>",
          "Position: 48<br>Story: <bos>Puddles filled the streets after the rain. A boy stepped carefully,<br> shoes splashing. He had a secret. He had seen a ghost in the<br> old house. The townsfolk said it was just a tale, but he<br> knew better.<b> The</b>",
          "Position: 49<br>Story: <bos>Puddles filled the streets after the rain. A boy stepped carefully,<br> shoes splashing. He had a secret. He had seen a ghost in the<br> old house. The townsfolk said it was just a tale, but he<br> knew better. The<b> ghost</b>",
          "Position: 50<br>Story: <bos>Puddles filled the streets after the rain. A boy stepped carefully,<br> shoes splashing. He had a secret. He had seen a ghost in the<br> old house. The townsfolk said it was just a tale, but he<br> knew better. The ghost<b> was</b>",
          "Position: 51<br>Story: <bos>Puddles filled the streets after the rain. A boy stepped carefully,<br> shoes splashing. He had a secret. He had seen a ghost in the<br> old house. The townsfolk said it was just a tale, but he<br> knew better. The ghost was<b> real</b>",
          "Position: 52<br>Story: <bos>Puddles filled the streets after the rain. A boy stepped carefully,<br> shoes splashing. He had a secret. He had seen a ghost in the<br> old house. The townsfolk said it was just a tale, but he<br> knew better. The ghost was real<b>,</b>"
         ],
         "type": "scatter",
         "x": {
          "bdata": "AAAAAGC1+j8AAAAAL7f6PwAAAACxFfw/AAAAANY0/D8AAADg0d37PwAAACDz/Ps/AAAAgBM8/D8AAACAJjz9PwAAAOA1nQRAAAAAgF8sBkAAAADgpXAHQAAAAIAsSgdAAAAAIEg+B0AAAAAAY08HQAAAAACfzQdAAAAAYO6ZB0AAAAAg1ycHQAAAAKBwqAdAAAAAgGLRB0AAAADg3rkHQAAAAEDz3wdAAAAAYEDZB0AAAACgnaAHQAAAAKCB4AdAAAAAwJrOB0AAAAAgJVkIQAAAACDHKglAAAAAwEB2CUAAAABAXYcJQAAAAADfkglAAAAAgBV2CUAAAABgmJUJQAAAAIA0qQlAAAAAoAGlCUA=",
          "dtype": "f8"
         },
         "y": {
          "bdata": "AAAAwJT55j8AAADgwEnmPwAAAADyO+U/AAAAgEqd4z8AAADgMAnkPwAAAABg5+M/AAAAQM5E4z8AAAAAylLhPwAAAKDYW9G/AAAAAC0u078AAADA+RfavwAAAOAxHtm/AAAA4HNQ2b8AAACAAnbZvwAAAMAaYNy/AAAAgBtA2r8AAABgyG3avwAAAECFLdu/AAAAoJb32r8AAADgR+3bvwAAAKBEZty/AAAAwIhX3L8AAACAxB3bvwAAAABPbNy/AAAAAHaS278AAABAiJPavwAAACAH3dq/AAAAgAVt2b8AAADAHtLYvwAAACAxzdi/AAAAYObw2b8AAAAgJGjYvwAAAOCcr9e/AAAAAJcX2L8=",
          "dtype": "f8"
         }
        },
        {
         "hovertemplate": "%{text}<br>UMAP1: %{x:.2f}<br>UMAP2: %{y:.2f}<extra></extra>",
         "marker": {
          "color": [
           53,
           54,
           55,
           56,
           57,
           58,
           59,
           60,
           61,
           62,
           63,
           64,
           65,
           66,
           67,
           68,
           69,
           70
          ],
          "colorscale": [
           [
            0,
            "#440154"
           ],
           [
            0.1111111111111111,
            "#482878"
           ],
           [
            0.2222222222222222,
            "#3e4989"
           ],
           [
            0.3333333333333333,
            "#31688e"
           ],
           [
            0.4444444444444444,
            "#26828e"
           ],
           [
            0.5555555555555556,
            "#1f9e89"
           ],
           [
            0.6666666666666666,
            "#35b779"
           ],
           [
            0.7777777777777778,
            "#6ece58"
           ],
           [
            0.8888888888888888,
            "#b5de2b"
           ],
           [
            1,
            "#fde725"
           ]
          ],
          "opacity": 0.7,
          "showscale": false,
          "size": 8,
          "symbol": "diamond"
         },
         "mode": "markers",
         "showlegend": false,
         "text": [
          "Position: 53<br>Story: <bos>Puddles filled the streets after the rain. A boy stepped carefully,<br> shoes splashing. He had a secret. He had seen a ghost in the<br> old house. The townsfolk said it was just a tale, but he<br> knew better. The ghost was real,<b> and</b>",
          "Position: 54<br>Story: <bos>Puddles filled the streets after the rain. A boy stepped carefully,<br> shoes splashing. He had a secret. He had seen a ghost in the<br> old house. The townsfolk said it was just a tale, but he<br> knew better. The ghost was real, and<b> it</b>",
          "Position: 55<br>Story: <bos>Puddles filled the streets after the rain. A boy stepped carefully,<br> shoes splashing. He had a secret. He had seen a ghost in the<br> old house. The townsfolk said it was just a tale, but he<br> knew better. The ghost was real, and it<b> needed</b>",
          "Position: 56<br>Story: <bos>Puddles filled the streets after the rain. A boy stepped carefully,<br> shoes splashing. He had a secret. He had seen a ghost in the<br> old house. The townsfolk said it was just a tale, but he<br> knew better. The ghost was real, and it needed<b> help</b>",
          "Position: 57<br>Story: <bos>Puddles filled the streets after the rain. A boy stepped carefully,<br> shoes splashing. He had a secret. He had seen a ghost in the<br> old house. The townsfolk said it was just a tale, but he<br> knew better. The ghost was real, and it needed help<b>.</b>",
          "Position: 58<br>Story: <bos>Puddles filled the streets after the rain. A boy stepped carefully,<br> shoes splashing. He had a secret. He had seen a ghost in the<br> old house. The townsfolk said it was just a tale, but he<br> knew better. The ghost was real, and it needed help.<b> His</b>",
          "Position: 59<br>Story: <bos>Puddles filled the streets after the rain. A boy stepped carefully,<br> shoes splashing. He had a secret. He had seen a ghost in the<br> old house. The townsfolk said it was just a tale, but he<br> knew better. The ghost was real, and it needed help. His<b> heart</b>",
          "Position: 60<br>Story: <bos>Puddles filled the streets after the rain. A boy stepped carefully,<br> shoes splashing. He had a secret. He had seen a ghost in the<br> old house. The townsfolk said it was just a tale, but he<br> knew better. The ghost was real, and it needed help. His heart<br><b> raced</b>",
          "Position: 61<br>Story: <bos>Puddles filled the streets after the rain. A boy stepped carefully,<br> shoes splashing. He had a secret. He had seen a ghost in the<br> old house. The townsfolk said it was just a tale, but he<br> knew better. The ghost was real, and it needed help. His heart<br> raced<b>,</b>",
          "Position: 62<br>Story: <bos>Puddles filled the streets after the rain. A boy stepped carefully,<br> shoes splashing. He had a secret. He had seen a ghost in the<br> old house. The townsfolk said it was just a tale, but he<br> knew better. The ghost was real, and it needed help. His heart<br> raced,<b> but</b>",
          "Position: 63<br>Story: <bos>Puddles filled the streets after the rain. A boy stepped carefully,<br> shoes splashing. He had a secret. He had seen a ghost in the<br> old house. The townsfolk said it was just a tale, but he<br> knew better. The ghost was real, and it needed help. His heart<br> raced, but<b> he</b>",
          "Position: 64<br>Story: <bos>Puddles filled the streets after the rain. A boy stepped carefully,<br> shoes splashing. He had a secret. He had seen a ghost in the<br> old house. The townsfolk said it was just a tale, but he<br> knew better. The ghost was real, and it needed help. His heart<br> raced, but he<b> felt</b>",
          "Position: 65<br>Story: <bos>Puddles filled the streets after the rain. A boy stepped carefully,<br> shoes splashing. He had a secret. He had seen a ghost in the<br> old house. The townsfolk said it was just a tale, but he<br> knew better. The ghost was real, and it needed help. His heart<br> raced, but he felt<b> a</b>",
          "Position: 66<br>Story: <bos>Puddles filled the streets after the rain. A boy stepped carefully,<br> shoes splashing. He had a secret. He had seen a ghost in the<br> old house. The townsfolk said it was just a tale, but he<br> knew better. The ghost was real, and it needed help. His heart<br> raced, but he felt a<b> pull</b>",
          "Position: 67<br>Story: <bos>Puddles filled the streets after the rain. A boy stepped carefully,<br> shoes splashing. He had a secret. He had seen a ghost in the<br> old house. The townsfolk said it was just a tale, but he<br> knew better. The ghost was real, and it needed help. His heart<br> raced, but he felt a pull<b> to</b>",
          "Position: 68<br>Story: <bos>Puddles filled the streets after the rain. A boy stepped carefully,<br> shoes splashing. He had a secret. He had seen a ghost in the<br> old house. The townsfolk said it was just a tale, but he<br> knew better. The ghost was real, and it needed help. His heart<br> raced, but he felt a pull to<b> the</b>",
          "Position: 69<br>Story: <bos>Puddles filled the streets after the rain. A boy stepped carefully,<br> shoes splashing. He had a secret. He had seen a ghost in the<br> old house. The townsfolk said it was just a tale, but he<br> knew better. The ghost was real, and it needed help. His heart<br> raced, but he felt a pull to the<b> house</b>",
          "Position: 70<br>Story: <bos>Puddles filled the streets after the rain. A boy stepped carefully,<br> shoes splashing. He had a secret. He had seen a ghost in the<br> old house. The townsfolk said it was just a tale, but he<br> knew better. The ghost was real, and it needed help. His heart<br> raced, but he felt a pull to the house<b>.</b>"
         ],
         "type": "scatter",
         "x": {
          "bdata": "AAAAoJqqCUAAAACAWawJQAAAACAVsAlAAAAAYOu+CUAAAACgYb8JQAAAAEDywQlAAAAAQNa2CUAAAABAmfUJQAAAAIBMGgpAAAAAoGwRCkAAAACAjSAKQAAAAKBcOgpAAAAAYPoqCkAAAACgbkAMwAAAACB4bwzAAAAAIMpdDMAAAACgzXkMwAAAAMBAHQzA",
          "dtype": "f8"
         },
         "y": {
          "bdata": "AAAA4GLt178AAACghf/XvwAAAGBd29e/AAAAgMNK178AAADAtIPXvwAAACDHFte/AAAAADWH1r8AAAAAGgfUvwAAAMDfbdK/AAAAIGWH0r8AAADgpdbSvwAAAKDU7tG/AAAAQN0y0r8AAABgDJ4fQAAAAKAcZB9AAAAAALJnH0AAAABgf1IfQAAAAMA2fx9A",
          "dtype": "f8"
         }
        },
        {
         "hoverinfo": "skip",
         "line": {
          "color": "black",
          "width": 2
         },
         "mode": "lines",
         "opacity": 0.3,
         "showlegend": false,
         "type": "scatter",
         "x": {
          "bdata": "AAAAYBWTMkAAAABgu2sNQAAAAIBH9hzAAAAAQOF6BEAAAABAji8IQAAAAKDGgAhAAAAA4KVPCEAAAADgy7UIQAAAAIBDKwhAAAAAQLY0CEAAAADgj+wCQAAAAOD2uvY/AAAAIBaasL8AAAAAYo/NPwAAAOAXl9I/AAAAwLHu+T8AAABAp8T6PwAAAAAhGPo/AAAAoKnG+j8AAAAAYLX6PwAAAAAvt/o/AAAAALEV/D8AAAAA1jT8PwAAAODR3fs/AAAAIPP8+z8AAACAEzz8PwAAAIAmPP0/AAAA4DWdBEAAAACAXywGQAAAAOClcAdAAAAAgCxKB0AAAAAgSD4HQAAAAABjTwdAAAAAAJ/NB0AAAABg7pkHQAAAACDXJwdAAAAAoHCoB0AAAACAYtEHQAAAAODeuQdAAAAAQPPfB0AAAABgQNkHQAAAAKCdoAdAAAAAoIHgB0AAAADAms4HQAAAACAlWQhAAAAAIMcqCUAAAADAQHYJQAAAAEBdhwlAAAAAAN+SCUAAAACAFXYJQAAAAGCYlQlAAAAAgDSpCUAAAACgAaUJQAAAAKCaqglAAAAAgFmsCUAAAAAgFbAJQAAAAGDrvglAAAAAoGG/CUAAAABA8sEJQAAAAEDWtglAAAAAQJn1CUAAAACATBoKQAAAAKBsEQpAAAAAgI0gCkAAAACgXDoKQAAAAGD6KgpAAAAAoG5ADMAAAAAgeG8MwAAAACDKXQzAAAAAoM15DMAAAADAQB0MwAAAAMDPSAzAAAAA4FxmDMAAAABgx2MMwAAAAKDrTQzAAAAAwFCZDMAAAABAeV0MwAAAAAARagzAAAAAIIpDDMAAAADgl2wMwAAAAEAigwzAAAAA4KeGDMAAAABgvZkMwAAAACDtgQzAAAAAYG6CDMAAAABAWaUMwAAAAOCLhgzAAAAAQDeHDMAAAACgPEsMwAAAAEC6eQzAAAAA4OFkDMAAAAAAneLnvwAAAAA5cOe/AAAA4O4t578AAAAgk1/nvwAAAMBhXOe/AAAAgMM+578AAADgRj/nvwAAAGDTNee/AAAAILiI5r8=",
          "dtype": "f8"
         },
         "y": {
          "bdata": "AAAAILIAFUAAAACgI6sqwAAAACAbSTBAAAAAoE17GUAAAADgw4EUQAAAACD1XBRAAAAA4AAZFEAAAABg/dQTQAAAAKBe+RJAAAAAIDu8EkAAAACgrWUQQAAAAKDnEwZAAAAAQO6BDEAAAABgBLn8PwAAAEB5J/0/AAAAwInv5z8AAACAa/jmPwAAAIDZGOc/AAAA4Nju5j8AAADAlPnmPwAAAODASeY/AAAAAPI75T8AAACASp3jPwAAAOAwCeQ/AAAAAGDn4z8AAABAzkTjPwAAAADKUuE/AAAAoNhb0b8AAAAALS7TvwAAAMD5F9q/AAAA4DEe2b8AAADgc1DZvwAAAIACdtm/AAAAwBpg3L8AAACAG0DavwAAAGDIbdq/AAAAQIUt278AAACglvfavwAAAOBH7du/AAAAoERm3L8AAADAiFfcvwAAAIDEHdu/AAAAAE9s3L8AAAAAdpLbvwAAAECIk9q/AAAAIAfd2r8AAACABW3ZvwAAAMAe0ti/AAAAIDHN2L8AAABg5vDZvwAAACAkaNi/AAAA4Jyv178AAAAAlxfYvwAAAOBi7de/AAAAoIX/178AAABgXdvXvwAAAIDDSte/AAAAwLSD178AAAAgxxbXvwAAAAA1h9a/AAAAABoH1L8AAADA323SvwAAACBlh9K/AAAA4KXW0r8AAACg1O7RvwAAAEDdMtK/AAAAYAyeH0AAAACgHGQfQAAAAACyZx9AAAAAYH9SH0AAAADANn8fQAAAACBWZR9AAAAAQFZwH0AAAABguHEfQAAAAKCAZR9AAAAAIIp0H0AAAACgo3MfQAAAAAATdx9AAAAAgCqNH0AAAAAAa3kfQAAAAOCdlh9AAAAAQDeXH0AAAABgApwfQAAAAEBIkx9AAAAAAFSPH0AAAAAA0ZYfQAAAAACujx9AAAAAYFWYH0AAAACgh3kfQAAAAIBhoR9AAAAAQKSiH0AAAADABIoDwAAAAKA4egPAAAAAAA9wA8AAAABAH3sDwAAAAEDgeQPAAAAAQHJzA8AAAADAgXUDwAAAAODKbgPAAAAAYLw1A8A=",
          "dtype": "f8"
         }
        }
       ],
       "layout": {
        "height": 800,
        "template": {
         "data": {
          "bar": [
           {
            "error_x": {
             "color": "#2a3f5f"
            },
            "error_y": {
             "color": "#2a3f5f"
            },
            "marker": {
             "line": {
              "color": "#E5ECF6",
              "width": 0.5
             },
             "pattern": {
              "fillmode": "overlay",
              "size": 10,
              "solidity": 0.2
             }
            },
            "type": "bar"
           }
          ],
          "barpolar": [
           {
            "marker": {
             "line": {
              "color": "#E5ECF6",
              "width": 0.5
             },
             "pattern": {
              "fillmode": "overlay",
              "size": 10,
              "solidity": 0.2
             }
            },
            "type": "barpolar"
           }
          ],
          "carpet": [
           {
            "aaxis": {
             "endlinecolor": "#2a3f5f",
             "gridcolor": "white",
             "linecolor": "white",
             "minorgridcolor": "white",
             "startlinecolor": "#2a3f5f"
            },
            "baxis": {
             "endlinecolor": "#2a3f5f",
             "gridcolor": "white",
             "linecolor": "white",
             "minorgridcolor": "white",
             "startlinecolor": "#2a3f5f"
            },
            "type": "carpet"
           }
          ],
          "choropleth": [
           {
            "colorbar": {
             "outlinewidth": 0,
             "ticks": ""
            },
            "type": "choropleth"
           }
          ],
          "contour": [
           {
            "colorbar": {
             "outlinewidth": 0,
             "ticks": ""
            },
            "colorscale": [
             [
              0,
              "#0d0887"
             ],
             [
              0.1111111111111111,
              "#46039f"
             ],
             [
              0.2222222222222222,
              "#7201a8"
             ],
             [
              0.3333333333333333,
              "#9c179e"
             ],
             [
              0.4444444444444444,
              "#bd3786"
             ],
             [
              0.5555555555555556,
              "#d8576b"
             ],
             [
              0.6666666666666666,
              "#ed7953"
             ],
             [
              0.7777777777777778,
              "#fb9f3a"
             ],
             [
              0.8888888888888888,
              "#fdca26"
             ],
             [
              1,
              "#f0f921"
             ]
            ],
            "type": "contour"
           }
          ],
          "contourcarpet": [
           {
            "colorbar": {
             "outlinewidth": 0,
             "ticks": ""
            },
            "type": "contourcarpet"
           }
          ],
          "heatmap": [
           {
            "colorbar": {
             "outlinewidth": 0,
             "ticks": ""
            },
            "colorscale": [
             [
              0,
              "#0d0887"
             ],
             [
              0.1111111111111111,
              "#46039f"
             ],
             [
              0.2222222222222222,
              "#7201a8"
             ],
             [
              0.3333333333333333,
              "#9c179e"
             ],
             [
              0.4444444444444444,
              "#bd3786"
             ],
             [
              0.5555555555555556,
              "#d8576b"
             ],
             [
              0.6666666666666666,
              "#ed7953"
             ],
             [
              0.7777777777777778,
              "#fb9f3a"
             ],
             [
              0.8888888888888888,
              "#fdca26"
             ],
             [
              1,
              "#f0f921"
             ]
            ],
            "type": "heatmap"
           }
          ],
          "histogram": [
           {
            "marker": {
             "pattern": {
              "fillmode": "overlay",
              "size": 10,
              "solidity": 0.2
             }
            },
            "type": "histogram"
           }
          ],
          "histogram2d": [
           {
            "colorbar": {
             "outlinewidth": 0,
             "ticks": ""
            },
            "colorscale": [
             [
              0,
              "#0d0887"
             ],
             [
              0.1111111111111111,
              "#46039f"
             ],
             [
              0.2222222222222222,
              "#7201a8"
             ],
             [
              0.3333333333333333,
              "#9c179e"
             ],
             [
              0.4444444444444444,
              "#bd3786"
             ],
             [
              0.5555555555555556,
              "#d8576b"
             ],
             [
              0.6666666666666666,
              "#ed7953"
             ],
             [
              0.7777777777777778,
              "#fb9f3a"
             ],
             [
              0.8888888888888888,
              "#fdca26"
             ],
             [
              1,
              "#f0f921"
             ]
            ],
            "type": "histogram2d"
           }
          ],
          "histogram2dcontour": [
           {
            "colorbar": {
             "outlinewidth": 0,
             "ticks": ""
            },
            "colorscale": [
             [
              0,
              "#0d0887"
             ],
             [
              0.1111111111111111,
              "#46039f"
             ],
             [
              0.2222222222222222,
              "#7201a8"
             ],
             [
              0.3333333333333333,
              "#9c179e"
             ],
             [
              0.4444444444444444,
              "#bd3786"
             ],
             [
              0.5555555555555556,
              "#d8576b"
             ],
             [
              0.6666666666666666,
              "#ed7953"
             ],
             [
              0.7777777777777778,
              "#fb9f3a"
             ],
             [
              0.8888888888888888,
              "#fdca26"
             ],
             [
              1,
              "#f0f921"
             ]
            ],
            "type": "histogram2dcontour"
           }
          ],
          "mesh3d": [
           {
            "colorbar": {
             "outlinewidth": 0,
             "ticks": ""
            },
            "type": "mesh3d"
           }
          ],
          "parcoords": [
           {
            "line": {
             "colorbar": {
              "outlinewidth": 0,
              "ticks": ""
             }
            },
            "type": "parcoords"
           }
          ],
          "pie": [
           {
            "automargin": true,
            "type": "pie"
           }
          ],
          "scatter": [
           {
            "fillpattern": {
             "fillmode": "overlay",
             "size": 10,
             "solidity": 0.2
            },
            "type": "scatter"
           }
          ],
          "scatter3d": [
           {
            "line": {
             "colorbar": {
              "outlinewidth": 0,
              "ticks": ""
             }
            },
            "marker": {
             "colorbar": {
              "outlinewidth": 0,
              "ticks": ""
             }
            },
            "type": "scatter3d"
           }
          ],
          "scattercarpet": [
           {
            "marker": {
             "colorbar": {
              "outlinewidth": 0,
              "ticks": ""
             }
            },
            "type": "scattercarpet"
           }
          ],
          "scattergeo": [
           {
            "marker": {
             "colorbar": {
              "outlinewidth": 0,
              "ticks": ""
             }
            },
            "type": "scattergeo"
           }
          ],
          "scattergl": [
           {
            "marker": {
             "colorbar": {
              "outlinewidth": 0,
              "ticks": ""
             }
            },
            "type": "scattergl"
           }
          ],
          "scattermap": [
           {
            "marker": {
             "colorbar": {
              "outlinewidth": 0,
              "ticks": ""
             }
            },
            "type": "scattermap"
           }
          ],
          "scattermapbox": [
           {
            "marker": {
             "colorbar": {
              "outlinewidth": 0,
              "ticks": ""
             }
            },
            "type": "scattermapbox"
           }
          ],
          "scatterpolar": [
           {
            "marker": {
             "colorbar": {
              "outlinewidth": 0,
              "ticks": ""
             }
            },
            "type": "scatterpolar"
           }
          ],
          "scatterpolargl": [
           {
            "marker": {
             "colorbar": {
              "outlinewidth": 0,
              "ticks": ""
             }
            },
            "type": "scatterpolargl"
           }
          ],
          "scatterternary": [
           {
            "marker": {
             "colorbar": {
              "outlinewidth": 0,
              "ticks": ""
             }
            },
            "type": "scatterternary"
           }
          ],
          "surface": [
           {
            "colorbar": {
             "outlinewidth": 0,
             "ticks": ""
            },
            "colorscale": [
             [
              0,
              "#0d0887"
             ],
             [
              0.1111111111111111,
              "#46039f"
             ],
             [
              0.2222222222222222,
              "#7201a8"
             ],
             [
              0.3333333333333333,
              "#9c179e"
             ],
             [
              0.4444444444444444,
              "#bd3786"
             ],
             [
              0.5555555555555556,
              "#d8576b"
             ],
             [
              0.6666666666666666,
              "#ed7953"
             ],
             [
              0.7777777777777778,
              "#fb9f3a"
             ],
             [
              0.8888888888888888,
              "#fdca26"
             ],
             [
              1,
              "#f0f921"
             ]
            ],
            "type": "surface"
           }
          ],
          "table": [
           {
            "cells": {
             "fill": {
              "color": "#EBF0F8"
             },
             "line": {
              "color": "white"
             }
            },
            "header": {
             "fill": {
              "color": "#C8D4E3"
             },
             "line": {
              "color": "white"
             }
            },
            "type": "table"
           }
          ]
         },
         "layout": {
          "annotationdefaults": {
           "arrowcolor": "#2a3f5f",
           "arrowhead": 0,
           "arrowwidth": 1
          },
          "autotypenumbers": "strict",
          "coloraxis": {
           "colorbar": {
            "outlinewidth": 0,
            "ticks": ""
           }
          },
          "colorscale": {
           "diverging": [
            [
             0,
             "#8e0152"
            ],
            [
             0.1,
             "#c51b7d"
            ],
            [
             0.2,
             "#de77ae"
            ],
            [
             0.3,
             "#f1b6da"
            ],
            [
             0.4,
             "#fde0ef"
            ],
            [
             0.5,
             "#f7f7f7"
            ],
            [
             0.6,
             "#e6f5d0"
            ],
            [
             0.7,
             "#b8e186"
            ],
            [
             0.8,
             "#7fbc41"
            ],
            [
             0.9,
             "#4d9221"
            ],
            [
             1,
             "#276419"
            ]
           ],
           "sequential": [
            [
             0,
             "#0d0887"
            ],
            [
             0.1111111111111111,
             "#46039f"
            ],
            [
             0.2222222222222222,
             "#7201a8"
            ],
            [
             0.3333333333333333,
             "#9c179e"
            ],
            [
             0.4444444444444444,
             "#bd3786"
            ],
            [
             0.5555555555555556,
             "#d8576b"
            ],
            [
             0.6666666666666666,
             "#ed7953"
            ],
            [
             0.7777777777777778,
             "#fb9f3a"
            ],
            [
             0.8888888888888888,
             "#fdca26"
            ],
            [
             1,
             "#f0f921"
            ]
           ],
           "sequentialminus": [
            [
             0,
             "#0d0887"
            ],
            [
             0.1111111111111111,
             "#46039f"
            ],
            [
             0.2222222222222222,
             "#7201a8"
            ],
            [
             0.3333333333333333,
             "#9c179e"
            ],
            [
             0.4444444444444444,
             "#bd3786"
            ],
            [
             0.5555555555555556,
             "#d8576b"
            ],
            [
             0.6666666666666666,
             "#ed7953"
            ],
            [
             0.7777777777777778,
             "#fb9f3a"
            ],
            [
             0.8888888888888888,
             "#fdca26"
            ],
            [
             1,
             "#f0f921"
            ]
           ]
          },
          "colorway": [
           "#636efa",
           "#EF553B",
           "#00cc96",
           "#ab63fa",
           "#FFA15A",
           "#19d3f3",
           "#FF6692",
           "#B6E880",
           "#FF97FF",
           "#FECB52"
          ],
          "font": {
           "color": "#2a3f5f"
          },
          "geo": {
           "bgcolor": "white",
           "lakecolor": "white",
           "landcolor": "#E5ECF6",
           "showlakes": true,
           "showland": true,
           "subunitcolor": "white"
          },
          "hoverlabel": {
           "align": "left"
          },
          "hovermode": "closest",
          "mapbox": {
           "style": "light"
          },
          "paper_bgcolor": "white",
          "plot_bgcolor": "#E5ECF6",
          "polar": {
           "angularaxis": {
            "gridcolor": "white",
            "linecolor": "white",
            "ticks": ""
           },
           "bgcolor": "#E5ECF6",
           "radialaxis": {
            "gridcolor": "white",
            "linecolor": "white",
            "ticks": ""
           }
          },
          "scene": {
           "xaxis": {
            "backgroundcolor": "#E5ECF6",
            "gridcolor": "white",
            "gridwidth": 2,
            "linecolor": "white",
            "showbackground": true,
            "ticks": "",
            "zerolinecolor": "white"
           },
           "yaxis": {
            "backgroundcolor": "#E5ECF6",
            "gridcolor": "white",
            "gridwidth": 2,
            "linecolor": "white",
            "showbackground": true,
            "ticks": "",
            "zerolinecolor": "white"
           },
           "zaxis": {
            "backgroundcolor": "#E5ECF6",
            "gridcolor": "white",
            "gridwidth": 2,
            "linecolor": "white",
            "showbackground": true,
            "ticks": "",
            "zerolinecolor": "white"
           }
          },
          "shapedefaults": {
           "line": {
            "color": "#2a3f5f"
           }
          },
          "ternary": {
           "aaxis": {
            "gridcolor": "white",
            "linecolor": "white",
            "ticks": ""
           },
           "baxis": {
            "gridcolor": "white",
            "linecolor": "white",
            "ticks": ""
           },
           "bgcolor": "#E5ECF6",
           "caxis": {
            "gridcolor": "white",
            "linecolor": "white",
            "ticks": ""
           }
          },
          "title": {
           "x": 0.05
          },
          "xaxis": {
           "automargin": true,
           "gridcolor": "white",
           "linecolor": "white",
           "ticks": "",
           "title": {
            "standoff": 15
           },
           "zerolinecolor": "white",
           "zerolinewidth": 2
          },
          "yaxis": {
           "automargin": true,
           "gridcolor": "white",
           "linecolor": "white",
           "ticks": "",
           "title": {
            "standoff": 15
           },
           "zerolinecolor": "white",
           "zerolinewidth": 2
          }
         }
        },
        "title": {
         "text": "UMAP of temporal pred codes SimpleStories (colored by position)"
        },
        "width": 1000,
        "xaxis": {
         "title": {
          "text": "UMAP 1"
         }
        },
        "yaxis": {
         "title": {
          "text": "UMAP 2"
         }
        }
       }
      }
     },
     "metadata": {},
     "output_type": "display_data"
    }
   ],
   "source": [
    "# Create trace data\n",
    "traces = []\n",
    "\n",
    "# Define marker shapes for each event\n",
    "marker_shapes = ['circle', 'square', 'diamond', 'cross', 'x', 'triangle-up', 'triangle-down', 'star']\n",
    "\n",
    "# Assign shape to each point based on event boundaries\n",
    "shape_assignments = []\n",
    "for pos in pos_labels_flat:\n",
    "    # Find which event this position belongs to\n",
    "    event_idx = 0\n",
    "    for i in range(len(event_boundaries) - 1):\n",
    "        if event_boundaries[i] <= pos < event_boundaries[i + 1]:\n",
    "            event_idx = i\n",
    "            break\n",
    "    else:\n",
    "        # If position is >= last boundary\n",
    "        event_idx = len(event_boundaries) - 1\n",
    "    \n",
    "    shape_assignments.append(marker_shapes[event_idx % len(marker_shapes)])\n",
    "\n",
    "# Create a trace for each unique shape (for better rendering)\n",
    "unique_shapes = list(set(shape_assignments))\n",
    "for shape in unique_shapes:\n",
    "    # Get indices for this shape\n",
    "    shape_mask = [s == shape for s in shape_assignments]\n",
    "    shape_indices = [i for i, m in enumerate(shape_mask) if m]\n",
    "    \n",
    "    traces.append(\n",
    "        go.Scatter(\n",
    "            x=embedding_flat[shape_indices, 0],\n",
    "            y=embedding_flat[shape_indices, 1],\n",
    "            mode=\"markers\",\n",
    "            marker=dict(\n",
    "                size=8,\n",
    "                symbol=shape,\n",
    "                color=[pos_labels_flat[i] for i in shape_indices],\n",
    "                colorscale=\"Viridis\",\n",
    "                showscale=True if shape == unique_shapes[0] else False,\n",
    "                colorbar=dict(title=\"Position Index\") if shape == unique_shapes[0] else None,\n",
    "                opacity=0.7,\n",
    "            ),\n",
    "            text=[hover_texts[i] for i in shape_indices],\n",
    "            hovertemplate=\"%{text}<br>UMAP1: %{x:.2f}<br>UMAP2: %{y:.2f}<extra></extra>\",\n",
    "            showlegend=False,\n",
    "        )\n",
    "    )\n",
    "\n",
    "# Add sequence connection lines\n",
    "if CONNECT_SEQUENCES is not None:\n",
    "    # Determine which sequences to connect\n",
    "    if isinstance(CONNECT_SEQUENCES, list):\n",
    "        sequences_to_connect = CONNECT_SEQUENCES\n",
    "    else:\n",
    "        # If not a list (e.g., True), connect all sequences\n",
    "        sequences_to_connect = range(batch_size)\n",
    "    \n",
    "    for b in sequences_to_connect:\n",
    "        if b < batch_size:  # Validate index\n",
    "            traces.append(\n",
    "                go.Scatter(\n",
    "                    x=embedding[b, :, 0],\n",
    "                    y=embedding[b, :, 1],\n",
    "                    mode=\"lines\",\n",
    "                    line=dict(color=\"black\", width=2),\n",
    "                    opacity=0.3,\n",
    "                    showlegend=False,\n",
    "                    hoverinfo=\"skip\",\n",
    "                )\n",
    "            )\n",
    "\n",
    "# Create interactive 2D plot\n",
    "fig = go.Figure(data=traces)\n",
    "\n",
    "fig.update_layout(\n",
    "    title=f\"{title_prefix} (colored by position)\",\n",
    "    xaxis_title=\"UMAP 1\",\n",
    "    yaxis_title=\"UMAP 2\",\n",
    "    width=1000,\n",
    "    height=800,\n",
    ")\n",
    "\n",
    "fig.show()"
   ]
  },
  {
   "cell_type": "code",
   "execution_count": 102,
   "metadata": {},
   "outputs": [
    {
     "name": "stdout",
     "output_type": "stream",
     "text": [
      "Saved interactive plot to: /home/can/dynamic_representations/artifacts/results/pred_structure_20251020_183745_temporal_pred_codes_Gemma-2-2B_SimpleStories_plot_2d.html\n"
     ]
    }
   ],
   "source": [
    "# Save as HTML\n",
    "output_path = Path(RESULTS_PATH).parent / f\"{Path(RESULTS_PATH).stem}_plot_2d.html\"\n",
    "fig.write_html(str(output_path))\n",
    "print(f\"Saved interactive plot to: {output_path}\")"
   ]
  },
  {
   "cell_type": "code",
   "execution_count": null,
   "metadata": {},
   "outputs": [],
   "source": []
  }
 ],
 "metadata": {
  "kernelspec": {
   "display_name": "dynamic_representations",
   "language": "python",
   "name": "python3"
  },
  "language_info": {
   "codemirror_mode": {
    "name": "ipython",
    "version": 3
   },
   "file_extension": ".py",
   "mimetype": "text/x-python",
   "name": "python",
   "nbconvert_exporter": "python",
   "pygments_lexer": "ipython3",
   "version": "3.12.8"
  }
 },
 "nbformat": 4,
 "nbformat_minor": 4
}
